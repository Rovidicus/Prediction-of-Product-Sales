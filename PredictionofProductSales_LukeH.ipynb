{
  "nbformat": 4,
  "nbformat_minor": 0,
  "metadata": {
    "colab": {
      "provenance": [],
      "authorship_tag": "ABX9TyMjwtB8pq0HFIEiy5qEktWH",
      "include_colab_link": true
    },
    "kernelspec": {
      "name": "python3",
      "display_name": "Python 3"
    },
    "language_info": {
      "name": "python"
    }
  },
  "cells": [
    {
      "cell_type": "markdown",
      "metadata": {
        "id": "view-in-github",
        "colab_type": "text"
      },
      "source": [
        "<a href=\"https://colab.research.google.com/github/Rovidicus/Prediction-of-Product-Sales/blob/main/PredictionofProductSales_LukeH.ipynb\" target=\"_parent\"><img src=\"https://colab.research.google.com/assets/colab-badge.svg\" alt=\"Open In Colab\"/></a>"
      ]
    },
    {
      "cell_type": "markdown",
      "source": [
        "# Prediction of Product Sales\n",
        "- Luke Hobbs\n",
        "\n"
      ],
      "metadata": {
        "id": "zUV1sUm2MV0Z"
      }
    },
    {
      "cell_type": "markdown",
      "source": [
        "## \"Project Overview\"\n"
      ],
      "metadata": {
        "id": "E5_IginiN9Yu"
      }
    },
    {
      "cell_type": "markdown",
      "source": [
        "## \"Load and Inspect Data\"\n"
      ],
      "metadata": {
        "id": "5-Fg6IvNN7tA"
      }
    },
    {
      "cell_type": "code",
      "source": [],
      "metadata": {
        "id": "qyRfrYeYN_ZU"
      },
      "execution_count": null,
      "outputs": []
    },
    {
      "cell_type": "markdown",
      "source": [
        "## \"Clean Data\"\n"
      ],
      "metadata": {
        "id": "BvzPorV6N503"
      }
    },
    {
      "cell_type": "code",
      "source": [],
      "metadata": {
        "id": "ShFkAldgN_6t"
      },
      "execution_count": null,
      "outputs": []
    },
    {
      "cell_type": "markdown",
      "source": [
        "## \"Exploratory Data Analysis\""
      ],
      "metadata": {
        "id": "XAtF88eRN1cu"
      }
    },
    {
      "cell_type": "code",
      "source": [],
      "metadata": {
        "id": "BwiAui01OAcE"
      },
      "execution_count": null,
      "outputs": []
    },
    {
      "cell_type": "markdown",
      "source": [
        "## \"Feature Inspection\""
      ],
      "metadata": {
        "id": "xd_ctGzONnl2"
      }
    },
    {
      "cell_type": "code",
      "source": [],
      "metadata": {
        "id": "c55v844oOBBU"
      },
      "execution_count": null,
      "outputs": []
    }
  ]
}